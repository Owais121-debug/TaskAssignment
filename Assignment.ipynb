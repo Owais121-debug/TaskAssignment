{
 "cells": [
  {
   "cell_type": "markdown",
   "id": "760a38c3-3103-4f65-b3b3-5b38b9ddcdbc",
   "metadata": {},
   "source": [
    "**Analysis of the Data given by TechaSoft Pvt Ltd**                **By Mohamed Owais** "
   ]
  },
  {
   "cell_type": "markdown",
   "id": "b05c88ac-36fb-4654-808a-92a623dee817",
   "metadata": {},
   "source": [
    "1)I have used json module to parse the data as it may contain nested structures and in order to load \n",
    "the data may it be in the form of arrays,objects,other json structures etc\n",
    "2)I have converted the data of each line into dictionary using \"json.loads\" "
   ]
  },
  {
   "cell_type": "code",
   "execution_count": 1,
   "id": "25da6eb6-82ac-4dce-90d5-c0c5f4c87766",
   "metadata": {},
   "outputs": [
    {
     "data": {
      "text/html": [
       "<div>\n",
       "<style scoped>\n",
       "    .dataframe tbody tr th:only-of-type {\n",
       "        vertical-align: middle;\n",
       "    }\n",
       "\n",
       "    .dataframe tbody tr th {\n",
       "        vertical-align: top;\n",
       "    }\n",
       "\n",
       "    .dataframe thead th {\n",
       "        text-align: right;\n",
       "    }\n",
       "</style>\n",
       "<table border=\"1\" class=\"dataframe\">\n",
       "  <thead>\n",
       "    <tr style=\"text-align: right;\">\n",
       "      <th></th>\n",
       "      <th>@odata.id</th>\n",
       "      <th>AccessibilityFeatures</th>\n",
       "      <th>AccessibleElevatorInstalled</th>\n",
       "      <th>Appliances</th>\n",
       "      <th>ArchitecturalStyle</th>\n",
       "      <th>Basement</th>\n",
       "      <th>BathroomsFull</th>\n",
       "      <th>BathroomsHalf</th>\n",
       "      <th>BathroomsOneQuarter</th>\n",
       "      <th>BathroomsThreeQuarter</th>\n",
       "      <th>...</th>\n",
       "      <th>UnitNumber</th>\n",
       "      <th>UnparsedAddress</th>\n",
       "      <th>Utilities</th>\n",
       "      <th>Vegetation</th>\n",
       "      <th>View</th>\n",
       "      <th>WaterfrontFeatures</th>\n",
       "      <th>WaterfrontYN</th>\n",
       "      <th>WindowFeatures</th>\n",
       "      <th>YearBuilt</th>\n",
       "      <th>YearBuiltEffective</th>\n",
       "    </tr>\n",
       "  </thead>\n",
       "  <tbody>\n",
       "    <tr>\n",
       "      <th>0</th>\n",
       "      <td>https://api.listhub.com/odata/Property('3yd-MA...</td>\n",
       "      <td>[]</td>\n",
       "      <td>None</td>\n",
       "      <td>[Dishwasher, Dryer, Ice Maker, Microwave, Oven...</td>\n",
       "      <td>[Contemporary]</td>\n",
       "      <td>None</td>\n",
       "      <td>9</td>\n",
       "      <td>4</td>\n",
       "      <td>0</td>\n",
       "      <td>0</td>\n",
       "      <td>...</td>\n",
       "      <td>None</td>\n",
       "      <td>4736 N Bay Rd</td>\n",
       "      <td>[Cable Available]</td>\n",
       "      <td>[]</td>\n",
       "      <td>[Water]</td>\n",
       "      <td>[Ocean Access, Waterfront]</td>\n",
       "      <td>True</td>\n",
       "      <td>[Skylight(s)]</td>\n",
       "      <td>2024.0</td>\n",
       "      <td>None</td>\n",
       "    </tr>\n",
       "    <tr>\n",
       "      <th>1</th>\n",
       "      <td>https://api.listhub.com/odata/Property('3yd-MA...</td>\n",
       "      <td>[]</td>\n",
       "      <td>None</td>\n",
       "      <td>[]</td>\n",
       "      <td>[Other]</td>\n",
       "      <td>None</td>\n",
       "      <td>0</td>\n",
       "      <td>0</td>\n",
       "      <td>0</td>\n",
       "      <td>0</td>\n",
       "      <td>...</td>\n",
       "      <td>None</td>\n",
       "      <td>Smoke Shop Near Fiu SW 107 AVe</td>\n",
       "      <td>[]</td>\n",
       "      <td>[]</td>\n",
       "      <td>[]</td>\n",
       "      <td>[]</td>\n",
       "      <td>False</td>\n",
       "      <td>[]</td>\n",
       "      <td>NaN</td>\n",
       "      <td>None</td>\n",
       "    </tr>\n",
       "    <tr>\n",
       "      <th>2</th>\n",
       "      <td>https://api.listhub.com/odata/Property('3yd-MA...</td>\n",
       "      <td>[Accessible Elevator Installed]</td>\n",
       "      <td>None</td>\n",
       "      <td>[Dishwasher, Dryer, Microwave, Range, Refriger...</td>\n",
       "      <td>[Other]</td>\n",
       "      <td>None</td>\n",
       "      <td>1</td>\n",
       "      <td>1</td>\n",
       "      <td>0</td>\n",
       "      <td>0</td>\n",
       "      <td>...</td>\n",
       "      <td>503</td>\n",
       "      <td>1605 Bay Rd</td>\n",
       "      <td>[Cable Available]</td>\n",
       "      <td>[]</td>\n",
       "      <td>[]</td>\n",
       "      <td>[]</td>\n",
       "      <td>False</td>\n",
       "      <td>[]</td>\n",
       "      <td>1982.0</td>\n",
       "      <td>None</td>\n",
       "    </tr>\n",
       "    <tr>\n",
       "      <th>3</th>\n",
       "      <td>https://api.listhub.com/odata/Property('3yd-MA...</td>\n",
       "      <td>[Accessible Approach with Ramp, Accessible Ele...</td>\n",
       "      <td>None</td>\n",
       "      <td>[Dishwasher, Dryer, Microwave, Range, Refriger...</td>\n",
       "      <td>[High Rise]</td>\n",
       "      <td>None</td>\n",
       "      <td>1</td>\n",
       "      <td>0</td>\n",
       "      <td>0</td>\n",
       "      <td>0</td>\n",
       "      <td>...</td>\n",
       "      <td>702</td>\n",
       "      <td>140 S Dixie Hwy</td>\n",
       "      <td>[]</td>\n",
       "      <td>[]</td>\n",
       "      <td>[]</td>\n",
       "      <td>[]</td>\n",
       "      <td>False</td>\n",
       "      <td>[]</td>\n",
       "      <td>2007.0</td>\n",
       "      <td>None</td>\n",
       "    </tr>\n",
       "    <tr>\n",
       "      <th>4</th>\n",
       "      <td>https://api.listhub.com/odata/Property('3yd-MA...</td>\n",
       "      <td>[]</td>\n",
       "      <td>None</td>\n",
       "      <td>[Dishwasher, Dryer, Garbage Disposer, Trash Co...</td>\n",
       "      <td>[Other]</td>\n",
       "      <td>None</td>\n",
       "      <td>2</td>\n",
       "      <td>0</td>\n",
       "      <td>0</td>\n",
       "      <td>0</td>\n",
       "      <td>...</td>\n",
       "      <td>910</td>\n",
       "      <td>5252 NW 85th Ave</td>\n",
       "      <td>[]</td>\n",
       "      <td>[]</td>\n",
       "      <td>[Golf Course]</td>\n",
       "      <td>[]</td>\n",
       "      <td>False</td>\n",
       "      <td>[]</td>\n",
       "      <td>2016.0</td>\n",
       "      <td>None</td>\n",
       "    </tr>\n",
       "  </tbody>\n",
       "</table>\n",
       "<p>5 rows × 111 columns</p>\n",
       "</div>"
      ],
      "text/plain": [
       "                                           @odata.id  \\\n",
       "0  https://api.listhub.com/odata/Property('3yd-MA...   \n",
       "1  https://api.listhub.com/odata/Property('3yd-MA...   \n",
       "2  https://api.listhub.com/odata/Property('3yd-MA...   \n",
       "3  https://api.listhub.com/odata/Property('3yd-MA...   \n",
       "4  https://api.listhub.com/odata/Property('3yd-MA...   \n",
       "\n",
       "                               AccessibilityFeatures  \\\n",
       "0                                                 []   \n",
       "1                                                 []   \n",
       "2                    [Accessible Elevator Installed]   \n",
       "3  [Accessible Approach with Ramp, Accessible Ele...   \n",
       "4                                                 []   \n",
       "\n",
       "  AccessibleElevatorInstalled  \\\n",
       "0                        None   \n",
       "1                        None   \n",
       "2                        None   \n",
       "3                        None   \n",
       "4                        None   \n",
       "\n",
       "                                          Appliances ArchitecturalStyle  \\\n",
       "0  [Dishwasher, Dryer, Ice Maker, Microwave, Oven...     [Contemporary]   \n",
       "1                                                 []            [Other]   \n",
       "2  [Dishwasher, Dryer, Microwave, Range, Refriger...            [Other]   \n",
       "3  [Dishwasher, Dryer, Microwave, Range, Refriger...        [High Rise]   \n",
       "4  [Dishwasher, Dryer, Garbage Disposer, Trash Co...            [Other]   \n",
       "\n",
       "  Basement  BathroomsFull  BathroomsHalf  BathroomsOneQuarter  \\\n",
       "0     None              9              4                    0   \n",
       "1     None              0              0                    0   \n",
       "2     None              1              1                    0   \n",
       "3     None              1              0                    0   \n",
       "4     None              2              0                    0   \n",
       "\n",
       "   BathroomsThreeQuarter  ...  UnitNumber                 UnparsedAddress  \\\n",
       "0                      0  ...        None                   4736 N Bay Rd   \n",
       "1                      0  ...        None  Smoke Shop Near Fiu SW 107 AVe   \n",
       "2                      0  ...         503                     1605 Bay Rd   \n",
       "3                      0  ...         702                 140 S Dixie Hwy   \n",
       "4                      0  ...         910                5252 NW 85th Ave   \n",
       "\n",
       "           Utilities Vegetation           View          WaterfrontFeatures  \\\n",
       "0  [Cable Available]         []        [Water]  [Ocean Access, Waterfront]   \n",
       "1                 []         []             []                          []   \n",
       "2  [Cable Available]         []             []                          []   \n",
       "3                 []         []             []                          []   \n",
       "4                 []         []  [Golf Course]                          []   \n",
       "\n",
       "  WaterfrontYN WindowFeatures YearBuilt YearBuiltEffective  \n",
       "0         True  [Skylight(s)]    2024.0               None  \n",
       "1        False             []       NaN               None  \n",
       "2        False             []    1982.0               None  \n",
       "3        False             []    2007.0               None  \n",
       "4        False             []    2016.0               None  \n",
       "\n",
       "[5 rows x 111 columns]"
      ]
     },
     "execution_count": 1,
     "metadata": {},
     "output_type": "execute_result"
    }
   ],
   "source": [
    "import json\n",
    "import pandas as pd\n",
    "\n",
    "# Load json file\n",
    "with open('listhub.json', 'r') as file:\n",
    "    raw_data = file.readlines()  # Read each line\n",
    "\n",
    "# Convert each line to a Dictionary \n",
    "json_data = [json.loads(line) for line in raw_data]\n",
    "\n",
    "# Convert to a DataFrame \n",
    "df = pd.DataFrame(json_data)\n",
    "\n",
    "df.head()"
   ]
  },
  {
   "cell_type": "code",
   "execution_count": 2,
   "id": "2efef79f-eecb-4f4c-9038-ee36cf0a75e2",
   "metadata": {},
   "outputs": [
    {
     "data": {
      "text/plain": [
       "427905"
      ]
     },
     "execution_count": 2,
     "metadata": {},
     "output_type": "execute_result"
    }
   ],
   "source": [
    "df.size # Size of the data given "
   ]
  },
  {
   "cell_type": "code",
   "execution_count": 3,
   "id": "8f5c5147-fe49-4f25-a708-65fa95fba4ee",
   "metadata": {},
   "outputs": [
    {
     "data": {
      "text/plain": [
       "(3855, 111)"
      ]
     },
     "execution_count": 3,
     "metadata": {},
     "output_type": "execute_result"
    }
   ],
   "source": [
    "df.shape"
   ]
  },
  {
   "cell_type": "markdown",
   "id": "791b09b8-e91b-4f57-b886-543ef0c7df48",
   "metadata": {},
   "source": [
    "**Task 1 : Identify Nullable Fields:**\r",
    "**1) Find all the fields that are nullabl**.**2)  For those fields, calculate the total occurrences of null valu**s."
   ]
  },
  {
   "cell_type": "code",
   "execution_count": 4,
   "id": "d8fd17f9-bded-48b3-b26f-af461f15721f",
   "metadata": {},
   "outputs": [
    {
     "name": "stdout",
     "output_type": "stream",
     "text": [
      "AccessibleElevatorInstalled     3855\n",
      "Basement                        3855\n",
      "BuilderName                     3523\n",
      "Country                            5\n",
      "CountyOrParish                     3\n",
      "Directions                       328\n",
      "ElementarySchool                2250\n",
      "ElementarySchoolDistrict        3851\n",
      "Elevation                       3855\n",
      "EntryLevel                      3763\n",
      "FranchiseAffiliation            2697\n",
      "HighSchool                      2213\n",
      "HighSchoolDistrict              3851\n",
      "LandLeaseAmountFrequency        3855\n",
      "Latitude                         277\n",
      "LeaseAmountFrequency            3126\n",
      "ListAgentFax                    3855\n",
      "ListAgentURL                     528\n",
      "ListPriceLow                    3855\n",
      "ListingContractDate              349\n",
      "Location                         277\n",
      "Longitude                        277\n",
      "LotSizeAcres                     703\n",
      "LotSizeArea                      802\n",
      "MiddleOrJuniorSchool            2238\n",
      "MiddleOrJuniorSchoolDistrict    3851\n",
      "NumberOfUnitsTotal              3831\n",
      "ParcelNumber                      16\n",
      "PostalCity                         1\n",
      "PublicRemarks                      7\n",
      "StateOrProvince                   10\n",
      "SubdivisionName                   98\n",
      "TaxLegalDescription              530\n",
      "UnitNumber                      3270\n",
      "UnparsedAddress                   12\n",
      "YearBuilt                        290\n",
      "YearBuiltEffective              3855\n",
      "dtype: int64\n"
     ]
    }
   ],
   "source": [
    "# Find all columns with null values and their counts\n",
    "null_counts = df.isnull().sum()\n",
    "nullable_fields = null_counts[null_counts > 0]  # Only columns with null values\n",
    "\n",
    "# Display nullable fields and their null value counts\n",
    "print(nullable_fields)"
   ]
  },
  {
   "cell_type": "markdown",
   "id": "a2a6fd47-3b79-4083-9134-af3d19665b09",
   "metadata": {},
   "source": [
    "2. **Identify 'Lake View' Properties:**\n",
    "a)Use regular expressions to determine whether a property has a lake view.\n",
    "b)Search for mentions of \"lake view\" in the following fields:\n",
    " PublicRemarks\n",
    " WaterfrontFeatures[]\n",
    " View[]"
   ]
  },
  {
   "cell_type": "markdown",
   "id": "cbd41ffc-71ea-487b-ae64-4f89893d6fc8",
   "metadata": {},
   "source": [
    "The **re module** in Python provides support for working with regular expressions (regex). A regular expression is a sequence of characters that defines a search pattern. Regular expressions are used for matching, searching, and manipulating strings in Python."
   ]
  },
  {
   "cell_type": "code",
   "execution_count": 5,
   "id": "9ddc868f-8266-4b70-bc1a-a8907c7d2643",
   "metadata": {},
   "outputs": [
    {
     "name": "stdout",
     "output_type": "stream",
     "text": [
      "      LakeView\n",
      "0        False\n",
      "1        False\n",
      "2        False\n",
      "3        False\n",
      "4        False\n",
      "...        ...\n",
      "3850     False\n",
      "3851     False\n",
      "3852     False\n",
      "3853     False\n",
      "3854     False\n",
      "\n",
      "[3855 rows x 1 columns]\n"
     ]
    }
   ],
   "source": [
    "import re\n",
    "import pandas as pd\n",
    "\n",
    "# Define a function to check for \"lake view\"\n",
    "def has_lake_view(*fields):\n",
    "    combined_text = ''\n",
    "    for field in fields:\n",
    "        if isinstance(field, list):  # If the field is a list\n",
    "            field = ' '.join(map(str, field))  # Join list elements into a single string\n",
    "        if pd.notnull(field):  # Check if the field is not null\n",
    "            combined_text += str(field) + ' '  # Add to combined text if not null\n",
    "    # Search for \"lake view\" (case-insensitive)\n",
    "    return bool(re.search(r'\\blake view\\b', combined_text, flags=re.IGNORECASE))\n",
    "\n",
    "# Apply the function to relevant columns\n",
    "df['LakeView'] = df.apply(\n",
    "    lambda row: has_lake_view(row.get('PublicRemarks'), row.get('WaterfrontFeatures'), row.get('View')), axis=1\n",
    ")\n",
    "\n",
    "# Display the resulting column\n",
    "print(df[['LakeView']])"
   ]
  },
  {
   "cell_type": "code",
   "execution_count": 6,
   "id": "0221a26d-2d5f-4532-8fba-ef11fd30b8d3",
   "metadata": {},
   "outputs": [
    {
     "name": "stdout",
     "output_type": "stream",
     "text": [
      "LakeView\n",
      "False    3814\n",
      "True       41\n",
      "Name: count, dtype: int64\n"
     ]
    }
   ],
   "source": [
    "print(df['LakeView'].value_counts())"
   ]
  },
  {
   "cell_type": "code",
   "execution_count": 7,
   "id": "d5dbc074-7852-49c2-8523-7fc28502ec29",
   "metadata": {},
   "outputs": [
    {
     "data": {
      "image/png": "[encoded data removed]",
      "text/plain": [
       "<Figure size 640x480 with 1 Axes>"
      ]
     },
     "metadata": {},
     "output_type": "display_data"
    }
   ],
   "source": [
    "import matplotlib.pyplot as plt\n",
    "df['LakeView'].value_counts().plot(kind='bar', title='Distribution of Lake View Properties')\n",
    "plt.xticks([0, 1], ['No Lake View', 'Lake View'], rotation=0)\n",
    "plt.show()"
   ]
  },
  {
   "cell_type": "markdown",
   "id": "edcfaff7-64a4-4989-9a34-5d5b5dce9c55",
   "metadata": {},
   "source": [
    "**Analysis**\n",
    "**(1)No of times the word \"LakeView\" appears : 41**\n",
    "**(2)No of times the word \"LakeView\" did not appear : 3814**"
   ]
  },
  {
   "cell_type": "code",
   "execution_count": 8,
   "id": "641df33f-5e91-4cc9-900e-db1e1f8f26d2",
   "metadata": {},
   "outputs": [
    {
     "data": {
      "text/plain": [
       "Index(['@odata.id', 'AccessibilityFeatures', 'AccessibleElevatorInstalled',\n",
       "       'Appliances', 'ArchitecturalStyle', 'Basement', 'BathroomsFull',\n",
       "       'BathroomsHalf', 'BathroomsOneQuarter', 'BathroomsThreeQuarter',\n",
       "       ...\n",
       "       'UnparsedAddress', 'Utilities', 'Vegetation', 'View',\n",
       "       'WaterfrontFeatures', 'WaterfrontYN', 'WindowFeatures', 'YearBuilt',\n",
       "       'YearBuiltEffective', 'LakeView'],\n",
       "      dtype='object', length=112)"
      ]
     },
     "execution_count": 8,
     "metadata": {},
     "output_type": "execute_result"
    }
   ],
   "source": [
    "df.columns"
   ]
  },
  {
   "cell_type": "code",
   "execution_count": null,
   "id": "f7ae53af-d57e-4c27-a923-31700aed9a2b",
   "metadata": {},
   "outputs": [],
   "source": []
  }
 ],
 "metadata": {
  "kernelspec": {
   "display_name": "Python 3 (ipykernel)",
   "language": "python",
   "name": "python3"
  },
  "language_info": {
   "codemirror_mode": {
    "name": "ipython",
    "version": 3
   },
   "file_extension": ".py",
   "mimetype": "text/x-python",
   "name": "python",
   "nbconvert_exporter": "python",
   "pygments_lexer": "ipython3",
   "version": "3.12.4"
  }
 },
 "nbformat": 4,
 "nbformat_minor": 5
}
